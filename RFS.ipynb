{
 "cells": [
  {
   "cell_type": "code",
   "execution_count": 1,
   "metadata": {},
   "outputs": [],
   "source": [
    "%load_ext autoreload\n",
    "%autoreload 2"
   ]
  },
  {
   "cell_type": "code",
   "execution_count": 7,
   "metadata": {},
   "outputs": [],
   "source": [
    "# !pip install -qqq torchsummary\n",
    "\n",
    "from models.util import create_model"
   ]
  },
  {
   "cell_type": "code",
   "execution_count": 16,
   "metadata": {},
   "outputs": [
    {
     "name": "stdout",
     "output_type": "stream",
     "text": [
      "New resnet12\n"
     ]
    }
   ],
   "source": [
    "model = create_model(\"resnet12\", 64, \"miniImageNet\").cuda()"
   ]
  },
  {
   "cell_type": "code",
   "execution_count": 17,
   "metadata": {},
   "outputs": [
    {
     "data": {
      "text/plain": [
       "ResNet12(\n",
       "  (layer1): Block(\n",
       "    (relu): LeakyReLU(negative_slope=0.1)\n",
       "    (conv1): Conv2d(3, 64, kernel_size=(3, 3), stride=(1, 1), padding=(1, 1), bias=False)\n",
       "    (bn1): BatchNorm2d(64, eps=1e-05, momentum=0.1, affine=True, track_running_stats=True)\n",
       "    (conv2): Conv2d(64, 64, kernel_size=(3, 3), stride=(1, 1), padding=(1, 1), bias=False)\n",
       "    (bn2): BatchNorm2d(64, eps=1e-05, momentum=0.1, affine=True, track_running_stats=True)\n",
       "    (conv3): Conv2d(64, 64, kernel_size=(3, 3), stride=(1, 1), padding=(1, 1), bias=False)\n",
       "    (bn3): BatchNorm2d(64, eps=1e-05, momentum=0.1, affine=True, track_running_stats=True)\n",
       "    (downsample): Sequential(\n",
       "      (0): Conv2d(3, 64, kernel_size=(1, 1), stride=(1, 1), bias=False)\n",
       "      (1): BatchNorm2d(64, eps=1e-05, momentum=0.1, affine=True, track_running_stats=True)\n",
       "    )\n",
       "    (maxpool): MaxPool2d(kernel_size=2, stride=2, padding=0, dilation=1, ceil_mode=False)\n",
       "  )\n",
       "  (layer2): Block(\n",
       "    (relu): LeakyReLU(negative_slope=0.1)\n",
       "    (conv1): Conv2d(64, 128, kernel_size=(3, 3), stride=(1, 1), padding=(1, 1), bias=False)\n",
       "    (bn1): BatchNorm2d(128, eps=1e-05, momentum=0.1, affine=True, track_running_stats=True)\n",
       "    (conv2): Conv2d(128, 128, kernel_size=(3, 3), stride=(1, 1), padding=(1, 1), bias=False)\n",
       "    (bn2): BatchNorm2d(128, eps=1e-05, momentum=0.1, affine=True, track_running_stats=True)\n",
       "    (conv3): Conv2d(128, 128, kernel_size=(3, 3), stride=(1, 1), padding=(1, 1), bias=False)\n",
       "    (bn3): BatchNorm2d(128, eps=1e-05, momentum=0.1, affine=True, track_running_stats=True)\n",
       "    (downsample): Sequential(\n",
       "      (0): Conv2d(64, 128, kernel_size=(1, 1), stride=(1, 1), bias=False)\n",
       "      (1): BatchNorm2d(128, eps=1e-05, momentum=0.1, affine=True, track_running_stats=True)\n",
       "    )\n",
       "    (maxpool): MaxPool2d(kernel_size=2, stride=2, padding=0, dilation=1, ceil_mode=False)\n",
       "  )\n",
       "  (layer3): Block(\n",
       "    (relu): LeakyReLU(negative_slope=0.1)\n",
       "    (conv1): Conv2d(128, 256, kernel_size=(3, 3), stride=(1, 1), padding=(1, 1), bias=False)\n",
       "    (bn1): BatchNorm2d(256, eps=1e-05, momentum=0.1, affine=True, track_running_stats=True)\n",
       "    (conv2): Conv2d(256, 256, kernel_size=(3, 3), stride=(1, 1), padding=(1, 1), bias=False)\n",
       "    (bn2): BatchNorm2d(256, eps=1e-05, momentum=0.1, affine=True, track_running_stats=True)\n",
       "    (conv3): Conv2d(256, 256, kernel_size=(3, 3), stride=(1, 1), padding=(1, 1), bias=False)\n",
       "    (bn3): BatchNorm2d(256, eps=1e-05, momentum=0.1, affine=True, track_running_stats=True)\n",
       "    (downsample): Sequential(\n",
       "      (0): Conv2d(128, 256, kernel_size=(1, 1), stride=(1, 1), bias=False)\n",
       "      (1): BatchNorm2d(256, eps=1e-05, momentum=0.1, affine=True, track_running_stats=True)\n",
       "    )\n",
       "    (maxpool): MaxPool2d(kernel_size=2, stride=2, padding=0, dilation=1, ceil_mode=False)\n",
       "  )\n",
       "  (layer4): Block(\n",
       "    (relu): LeakyReLU(negative_slope=0.1)\n",
       "    (conv1): Conv2d(256, 512, kernel_size=(3, 3), stride=(1, 1), padding=(1, 1), bias=False)\n",
       "    (bn1): BatchNorm2d(512, eps=1e-05, momentum=0.1, affine=True, track_running_stats=True)\n",
       "    (conv2): Conv2d(512, 512, kernel_size=(3, 3), stride=(1, 1), padding=(1, 1), bias=False)\n",
       "    (bn2): BatchNorm2d(512, eps=1e-05, momentum=0.1, affine=True, track_running_stats=True)\n",
       "    (conv3): Conv2d(512, 512, kernel_size=(3, 3), stride=(1, 1), padding=(1, 1), bias=False)\n",
       "    (bn3): BatchNorm2d(512, eps=1e-05, momentum=0.1, affine=True, track_running_stats=True)\n",
       "    (downsample): Sequential(\n",
       "      (0): Conv2d(256, 512, kernel_size=(1, 1), stride=(1, 1), bias=False)\n",
       "      (1): BatchNorm2d(512, eps=1e-05, momentum=0.1, affine=True, track_running_stats=True)\n",
       "    )\n",
       "    (maxpool): MaxPool2d(kernel_size=2, stride=2, padding=0, dilation=1, ceil_mode=False)\n",
       "  )\n",
       "  (classifier): Linear(in_features=512, out_features=64, bias=True)\n",
       ")"
      ]
     },
     "execution_count": 17,
     "metadata": {},
     "output_type": "execute_result"
    }
   ],
   "source": [
    "model"
   ]
  },
  {
   "cell_type": "code",
   "execution_count": 18,
   "metadata": {},
   "outputs": [
    {
     "name": "stdout",
     "output_type": "stream",
     "text": [
      "----------------------------------------------------------------\n",
      "        Layer (type)               Output Shape         Param #\n",
      "================================================================\n",
      "            Conv2d-1           [-1, 64, 84, 84]           1,728\n",
      "       BatchNorm2d-2           [-1, 64, 84, 84]             128\n",
      "         LeakyReLU-3           [-1, 64, 84, 84]               0\n",
      "            Conv2d-4           [-1, 64, 84, 84]          36,864\n",
      "       BatchNorm2d-5           [-1, 64, 84, 84]             128\n",
      "         LeakyReLU-6           [-1, 64, 84, 84]               0\n",
      "            Conv2d-7           [-1, 64, 84, 84]          36,864\n",
      "       BatchNorm2d-8           [-1, 64, 84, 84]             128\n",
      "            Conv2d-9           [-1, 64, 84, 84]             192\n",
      "      BatchNorm2d-10           [-1, 64, 84, 84]             128\n",
      "        LeakyReLU-11           [-1, 64, 84, 84]               0\n",
      "        MaxPool2d-12           [-1, 64, 42, 42]               0\n",
      "            Block-13           [-1, 64, 42, 42]               0\n",
      "           Conv2d-14          [-1, 128, 42, 42]          73,728\n",
      "      BatchNorm2d-15          [-1, 128, 42, 42]             256\n",
      "        LeakyReLU-16          [-1, 128, 42, 42]               0\n",
      "           Conv2d-17          [-1, 128, 42, 42]         147,456\n",
      "      BatchNorm2d-18          [-1, 128, 42, 42]             256\n",
      "        LeakyReLU-19          [-1, 128, 42, 42]               0\n",
      "           Conv2d-20          [-1, 128, 42, 42]         147,456\n",
      "      BatchNorm2d-21          [-1, 128, 42, 42]             256\n",
      "           Conv2d-22          [-1, 128, 42, 42]           8,192\n",
      "      BatchNorm2d-23          [-1, 128, 42, 42]             256\n",
      "        LeakyReLU-24          [-1, 128, 42, 42]               0\n",
      "        MaxPool2d-25          [-1, 128, 21, 21]               0\n",
      "            Block-26          [-1, 128, 21, 21]               0\n",
      "           Conv2d-27          [-1, 256, 21, 21]         294,912\n",
      "      BatchNorm2d-28          [-1, 256, 21, 21]             512\n",
      "        LeakyReLU-29          [-1, 256, 21, 21]               0\n",
      "           Conv2d-30          [-1, 256, 21, 21]         589,824\n",
      "      BatchNorm2d-31          [-1, 256, 21, 21]             512\n",
      "        LeakyReLU-32          [-1, 256, 21, 21]               0\n",
      "           Conv2d-33          [-1, 256, 21, 21]         589,824\n",
      "      BatchNorm2d-34          [-1, 256, 21, 21]             512\n",
      "           Conv2d-35          [-1, 256, 21, 21]          32,768\n",
      "      BatchNorm2d-36          [-1, 256, 21, 21]             512\n",
      "        LeakyReLU-37          [-1, 256, 21, 21]               0\n",
      "        MaxPool2d-38          [-1, 256, 10, 10]               0\n",
      "            Block-39          [-1, 256, 10, 10]               0\n",
      "           Conv2d-40          [-1, 512, 10, 10]       1,179,648\n",
      "      BatchNorm2d-41          [-1, 512, 10, 10]           1,024\n",
      "        LeakyReLU-42          [-1, 512, 10, 10]               0\n",
      "           Conv2d-43          [-1, 512, 10, 10]       2,359,296\n",
      "      BatchNorm2d-44          [-1, 512, 10, 10]           1,024\n",
      "        LeakyReLU-45          [-1, 512, 10, 10]               0\n",
      "           Conv2d-46          [-1, 512, 10, 10]       2,359,296\n",
      "      BatchNorm2d-47          [-1, 512, 10, 10]           1,024\n",
      "           Conv2d-48          [-1, 512, 10, 10]         131,072\n",
      "      BatchNorm2d-49          [-1, 512, 10, 10]           1,024\n",
      "        LeakyReLU-50          [-1, 512, 10, 10]               0\n",
      "        MaxPool2d-51            [-1, 512, 5, 5]               0\n",
      "            Block-52            [-1, 512, 5, 5]               0\n",
      "           Linear-53                   [-1, 64]          32,832\n",
      "================================================================\n",
      "Total params: 8,029,632\n",
      "Trainable params: 8,029,632\n",
      "Non-trainable params: 0\n",
      "----------------------------------------------------------------\n",
      "Input size (MB): 0.08\n",
      "Forward/backward pass size (MB): 73.79\n",
      "Params size (MB): 30.63\n",
      "Estimated Total Size (MB): 104.50\n",
      "----------------------------------------------------------------\n"
     ]
    }
   ],
   "source": [
    "from torchsummary import summary\n",
    "summary(model, input_size=(3, 84, 84))"
   ]
  },
  {
   "cell_type": "code",
   "execution_count": 22,
   "metadata": {},
   "outputs": [],
   "source": [
    "# !wget -O miniImageNet.tar.gz https://www.dropbox.com/sh/6yd1ygtyc3yd981/AADaG1GvNdXkHnjynhZY6TBia/miniImageNet.tar.gz?dl=1\n",
    "# !tar -xf miniImageNet.tar.gz"
   ]
  },
  {
   "cell_type": "code",
   "execution_count": 24,
   "metadata": {},
   "outputs": [
    {
     "name": "stdout",
     "output_type": "stream",
     "text": [
      "Collecting tensorboard_logger\n",
      "  Downloading tensorboard_logger-0.1.0-py2.py3-none-any.whl (17 kB)\n",
      "Requirement already satisfied: scipy>=0.19.1 in /opt/conda/lib/python3.7/site-packages (from tensorboard_logger) (1.4.1)\n",
      "Requirement already satisfied: protobuf in /opt/conda/lib/python3.7/site-packages (from tensorboard_logger) (3.13.0)\n",
      "Requirement already satisfied: six in /opt/conda/lib/python3.7/site-packages (from tensorboard_logger) (1.14.0)\n",
      "Requirement already satisfied: numpy in /opt/conda/lib/python3.7/site-packages (from tensorboard_logger) (1.18.5)\n",
      "Requirement already satisfied: pillow>=4.1.1 in /opt/conda/lib/python3.7/site-packages (from tensorboard_logger) (7.2.0)\n",
      "Requirement already satisfied: setuptools in /opt/conda/lib/python3.7/site-packages (from protobuf->tensorboard_logger) (46.1.3.post20200325)\n",
      "Installing collected packages: tensorboard-logger\n",
      "Successfully installed tensorboard-logger-0.1.0\n",
      "\u001b[33mWARNING: You are using pip version 20.2.3; however, version 21.1.2 is available.\n",
      "You should consider upgrading via the '/opt/conda/bin/python3.7 -m pip install --upgrade pip' command.\u001b[0m\n"
     ]
    }
   ],
   "source": [
    "!pip install -qqq tensorboard_logger"
   ]
  },
  {
   "cell_type": "code",
   "execution_count": null,
   "metadata": {},
   "outputs": [
    {
     "name": "stdout",
     "output_type": "stream",
     "text": [
      "2021-05-29 10:29:35.259171: I tensorflow/stream_executor/platform/default/dso_loader.cc:48] Successfully opened dynamic library libcudart.so.10.1\n"
     ]
    }
   ],
   "source": [
    "!python train_supervised.py --trial pretrain --data_root ./"
   ]
  }
 ],
 "metadata": {
  "kernelspec": {
   "display_name": "Python 3",
   "language": "python",
   "name": "python3"
  },
  "language_info": {
   "codemirror_mode": {
    "name": "ipython",
    "version": 3
   },
   "file_extension": ".py",
   "mimetype": "text/x-python",
   "name": "python",
   "nbconvert_exporter": "python",
   "pygments_lexer": "ipython3",
   "version": "3.7.6"
  }
 },
 "nbformat": 4,
 "nbformat_minor": 4
}
